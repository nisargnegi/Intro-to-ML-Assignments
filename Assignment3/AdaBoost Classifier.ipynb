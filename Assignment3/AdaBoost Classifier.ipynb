{
 "cells": [
  {
   "cell_type": "code",
   "execution_count": 1,
   "id": "632ed2a5",
   "metadata": {},
   "outputs": [],
   "source": [
    "# Load libraries\n",
    "from sklearn.ensemble import AdaBoostClassifier\n",
    "from sklearn import datasets\n",
    "# Import train_test_split function\n",
    "from sklearn.model_selection import train_test_split\n",
    "#Import scikit-learn metrics module for accuracy calculation\n",
    "from sklearn import metrics"
   ]
  },
  {
   "cell_type": "code",
   "execution_count": 2,
   "id": "4b4ca7e8",
   "metadata": {},
   "outputs": [],
   "source": [
    "# Load data\n",
    "iris = datasets.load_iris()\n",
    "X = iris.data\n",
    "y = iris.target"
   ]
  },
  {
   "cell_type": "code",
   "execution_count": 3,
   "id": "10f90c8f",
   "metadata": {},
   "outputs": [],
   "source": [
    "# Split dataset into training set and test set\n",
    "X_train, X_test, y_train, y_test = train_test_split(X, y, test_size=0.3) # 70% training and 30% test"
   ]
  },
  {
   "cell_type": "code",
   "execution_count": 4,
   "id": "5ff4f7f3",
   "metadata": {},
   "outputs": [],
   "source": [
    "# Create adaboost classifer object\n",
    "abc = AdaBoostClassifier(n_estimators=50,learning_rate=1)\n",
    "# Train Adaboost Classifer\n",
    "model = abc.fit(X_train, y_train)\n",
    "#Predict the response for test dataset\n",
    "y_pred = model.predict(X_test)"
   ]
  },
  {
   "cell_type": "code",
   "execution_count": 5,
   "id": "3ee8efb9",
   "metadata": {},
   "outputs": [
    {
     "name": "stdout",
     "output_type": "stream",
     "text": [
      "Accuracy: 0.9555555555555556\n"
     ]
    }
   ],
   "source": [
    "print(\"Accuracy:\",metrics.accuracy_score(y_test, y_pred))\n"
   ]
  },
  {
   "cell_type": "code",
   "execution_count": 6,
   "id": "75fb1fea",
   "metadata": {},
   "outputs": [
    {
     "name": "stdout",
     "output_type": "stream",
     "text": [
      "   a   b  c       y\n",
      "0  2   7  2     low\n",
      "1  7  10  0  normal\n",
      "2  1   0  1     low\n",
      "3  7   4  2  normal\n",
      "4  5   9  4  normal\n"
     ]
    },
    {
     "name": "stderr",
     "output_type": "stream",
     "text": [
      "C:\\Software\\lib\\site-packages\\sklearn\\preprocessing\\_label.py:115: DataConversionWarning: A column-vector y was passed when a 1d array was expected. Please change the shape of y to (n_samples, ), for example using ravel().\n",
      "  y = column_or_1d(y, warn=True)\n"
     ]
    },
    {
     "name": "stdout",
     "output_type": "stream",
     "text": [
      "        y\n",
      "0     low\n",
      "1  normal\n",
      "2     low\n",
      "3  normal\n",
      "4  normal\n",
      "[1 2 1 2 2]\n",
      "0.88\n",
      "[[ 1  0  1]\n",
      " [ 0 16  4]\n",
      " [ 1  0 27]]\n",
      "Method:  RandomForestClassifier(n_estimators=10)\n",
      "0.9736842105263158\n",
      "[[13  0  0]\n",
      " [ 0 15  1]\n",
      " [ 0  0  9]]\n",
      "Method:  GaussianNB()\n",
      "0.9473684210526315\n",
      "[[13  0  0]\n",
      " [ 0 15  1]\n",
      " [ 0  1  8]]\n",
      "Method:  DecisionTreeClassifier(criterion='entropy', max_depth=3)\n",
      "0.9736842105263158\n",
      "[[13  0  0]\n",
      " [ 0 15  1]\n",
      " [ 0  0  9]]\n"
     ]
    }
   ],
   "source": [
    "import pandas as pd\n",
    "import numpy as np\n",
    "from sklearn.preprocessing import LabelEncoder\n",
    "from sklearn.metrics import confusion_matrix\n",
    "from sklearn.model_selection import train_test_split\n",
    "from sklearn.ensemble import AdaBoostClassifier\n",
    "from sklearn.tree import DecisionTreeClassifier\n",
    "from sklearn.naive_bayes import GaussianNB\n",
    "from sklearn.ensemble import RandomForestClassifier\n",
    "from sklearn import datasets\n",
    "\n",
    "def CreateDataFrame(N):\n",
    " columns = ['a','b','c','y']\n",
    " df = pd.DataFrame(columns=columns)\n",
    " for i in range(N):\n",
    "  a = np.random.randint(10)\n",
    "  b = np.random.randint(20)\n",
    "  c = np.random.randint(5)\n",
    "  y = \"normal\"\n",
    "  if((a+b+c)>25):\n",
    "   y=\"high\"\n",
    "  elif((a+b+c)<12):\n",
    "   y= \"low\"\n",
    "\n",
    "  df.loc[i]= [a, b, c, y]\n",
    " return df\n",
    "\n",
    "df = CreateDataFrame(200)\n",
    "print(df.head())\n",
    "\n",
    "X = df[[\"a\",\"b\",\"c\"]]\n",
    "Y = df[[\"y\"]]\n",
    "\n",
    "le=LabelEncoder()\n",
    "y=le.fit_transform(Y)\n",
    "\n",
    "print(Y.head())\n",
    "print(y[0:5])\n",
    "\n",
    "Xtrain, Xtest, ytrain, ytest = train_test_split(X, y, random_state=0)\n",
    "\n",
    "dtc = DecisionTreeClassifier(criterion=\"entropy\", max_depth=3)\n",
    "ada_model=AdaBoostClassifier(base_estimator=dtc, n_estimators=100)\n",
    "ada_model=ada_model.fit(Xtrain,ytrain)\n",
    "ytest_pred=ada_model.predict(Xtest)\n",
    "print(ada_model.score(Xtest, ytest))\n",
    "print(confusion_matrix(ytest, ytest_pred)) \n",
    "\n",
    "iris= datasets.load_iris()\n",
    "X = iris.data\n",
    "Y = iris.target\n",
    "\n",
    "le=LabelEncoder()\n",
    "y=le.fit_transform(Y)\n",
    "\n",
    "Xtrain, Xtest, ytrain, ytest = train_test_split(X, y, random_state=0)\n",
    "\n",
    "gnb = GaussianNB()\n",
    "rf = RandomForestClassifier(n_estimators=10)\n",
    "\n",
    "base_methods=[rf, gnb, dtc]\n",
    "for bm  in base_methods:\n",
    " print(\"Method: \", bm)\n",
    " ada_model=AdaBoostClassifier(base_estimator=bm)\n",
    " ada_model=ada_model.fit(Xtrain,ytrain)\n",
    " ytest_pred=ada_model.predict(Xtest)\n",
    " print(ada_model.score(Xtest, ytest))\n",
    " print(confusion_matrix(ytest, ytest_pred)) "
   ]
  },
  {
   "cell_type": "code",
   "execution_count": null,
   "id": "146086f0",
   "metadata": {},
   "outputs": [],
   "source": []
  }
 ],
 "metadata": {
  "kernelspec": {
   "display_name": "Python 3 (ipykernel)",
   "language": "python",
   "name": "python3"
  },
  "language_info": {
   "codemirror_mode": {
    "name": "ipython",
    "version": 3
   },
   "file_extension": ".py",
   "mimetype": "text/x-python",
   "name": "python",
   "nbconvert_exporter": "python",
   "pygments_lexer": "ipython3",
   "version": "3.9.12"
  }
 },
 "nbformat": 4,
 "nbformat_minor": 5
}
