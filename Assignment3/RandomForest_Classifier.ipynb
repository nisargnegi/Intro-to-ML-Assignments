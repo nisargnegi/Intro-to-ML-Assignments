{
 "cells": [
  {
   "cell_type": "markdown",
   "metadata": {
    "id": "t4f8OfwijMEg"
   },
   "source": [
    "## Import the Required Libraries and Data"
   ]
  },
  {
   "cell_type": "code",
   "execution_count": 77,
   "metadata": {
    "id": "klp8WZDUjMEh"
   },
   "outputs": [],
   "source": [
    "# Import modules\n",
    "%matplotlib inline\n",
    "\n",
    "import time\n",
    "import random\n",
    "import numpy as np\n",
    "import pandas as pd\n",
    "import seaborn as sns\n",
    "import matplotlib.pyplot as plt\n",
    "from sklearn.metrics import roc_curve, auc\n",
    "from sklearn.metrics import confusion_matrix\n",
    "from sklearn.metrics import classification_report\n",
    "from sklearn.model_selection import KFold, cross_val_score\n",
    "from sklearn.model_selection import train_test_split, GridSearchCV\n",
    "from sklearn.ensemble import RandomForestClassifier \n",
    "from urllib.request import urlopen \n",
    "\n",
    "plt.style.use('ggplot')\n",
    "pd.set_option('display.max_columns', 500) "
   ]
  },
  {
   "cell_type": "code",
   "execution_count": 78,
   "metadata": {
    "id": "6OLSuNpdjMEm"
   },
   "outputs": [],
   "source": [
    "breast_cancer = pd.read_csv('BreastTissue.csv')\n",
    "\n",
    "# names = ['id', 'diagnosis', 'radius_mean', \n",
    "#          'texture_mean', 'perimeter_mean', 'area_mean', \n",
    "#          'smoothness_mean', 'compactness_mean', \n",
    "#          'concavity_mean','concave_points_mean', \n",
    "#          'symmetry_mean', 'fractal_dimension_mean',\n",
    "#          'radius_se', 'texture_se', 'perimeter_se', \n",
    "#          'area_se', 'smoothness_se', 'compactness_se', \n",
    "#          'concavity_se', 'concave_points_se', \n",
    "#          'symmetry_se', 'fractal_dimension_se', \n",
    "#          'radius_worst', 'texture_worst', \n",
    "#          'perimeter_worst', 'area_worst', \n",
    "#          'smoothness_worst', 'compactness_worst', \n",
    "#          'concavity_worst', 'concave_points_worst', \n",
    "#          'symmetry_worst', 'fractal_dimension_worst'] \n",
    "\n",
    "dx = ['car','fad','mas','gla','con','adi']"
   ]
  },
  {
   "cell_type": "code",
   "execution_count": 79,
   "metadata": {
    "id": "dJCLcVNFjMEp",
    "outputId": "8cbbc8c4-a932-4911-a456-9246ee4ee7c3"
   },
   "outputs": [
    {
     "data": {
      "text/html": [
       "<div>\n",
       "<style scoped>\n",
       "    .dataframe tbody tr th:only-of-type {\n",
       "        vertical-align: middle;\n",
       "    }\n",
       "\n",
       "    .dataframe tbody tr th {\n",
       "        vertical-align: top;\n",
       "    }\n",
       "\n",
       "    .dataframe thead th {\n",
       "        text-align: right;\n",
       "    }\n",
       "</style>\n",
       "<table border=\"1\" class=\"dataframe\">\n",
       "  <thead>\n",
       "    <tr style=\"text-align: right;\">\n",
       "      <th></th>\n",
       "      <th>Case #</th>\n",
       "      <th>I0</th>\n",
       "      <th>PA500</th>\n",
       "      <th>HFS</th>\n",
       "      <th>DA</th>\n",
       "      <th>Area</th>\n",
       "      <th>A/DA</th>\n",
       "      <th>Max IP</th>\n",
       "      <th>DR</th>\n",
       "      <th>P</th>\n",
       "      <th>Class</th>\n",
       "    </tr>\n",
       "  </thead>\n",
       "  <tbody>\n",
       "    <tr>\n",
       "      <th>0</th>\n",
       "      <td>1</td>\n",
       "      <td>524.794072</td>\n",
       "      <td>0.187448</td>\n",
       "      <td>0.032114</td>\n",
       "      <td>228.800228</td>\n",
       "      <td>6843.598481</td>\n",
       "      <td>29.910803</td>\n",
       "      <td>60.204880</td>\n",
       "      <td>220.737212</td>\n",
       "      <td>556.828334</td>\n",
       "      <td>car</td>\n",
       "    </tr>\n",
       "    <tr>\n",
       "      <th>1</th>\n",
       "      <td>2</td>\n",
       "      <td>330.000000</td>\n",
       "      <td>0.226893</td>\n",
       "      <td>0.265290</td>\n",
       "      <td>121.154201</td>\n",
       "      <td>3163.239472</td>\n",
       "      <td>26.109202</td>\n",
       "      <td>69.717361</td>\n",
       "      <td>99.084964</td>\n",
       "      <td>400.225776</td>\n",
       "      <td>car</td>\n",
       "    </tr>\n",
       "    <tr>\n",
       "      <th>2</th>\n",
       "      <td>3</td>\n",
       "      <td>551.879287</td>\n",
       "      <td>0.232478</td>\n",
       "      <td>0.063530</td>\n",
       "      <td>264.804935</td>\n",
       "      <td>11888.391830</td>\n",
       "      <td>44.894903</td>\n",
       "      <td>77.793297</td>\n",
       "      <td>253.785300</td>\n",
       "      <td>656.769449</td>\n",
       "      <td>car</td>\n",
       "    </tr>\n",
       "    <tr>\n",
       "      <th>3</th>\n",
       "      <td>4</td>\n",
       "      <td>380.000000</td>\n",
       "      <td>0.240855</td>\n",
       "      <td>0.286234</td>\n",
       "      <td>137.640111</td>\n",
       "      <td>5402.171180</td>\n",
       "      <td>39.248524</td>\n",
       "      <td>88.758446</td>\n",
       "      <td>105.198568</td>\n",
       "      <td>493.701814</td>\n",
       "      <td>car</td>\n",
       "    </tr>\n",
       "    <tr>\n",
       "      <th>4</th>\n",
       "      <td>5</td>\n",
       "      <td>362.831266</td>\n",
       "      <td>0.200713</td>\n",
       "      <td>0.244346</td>\n",
       "      <td>124.912559</td>\n",
       "      <td>3290.462446</td>\n",
       "      <td>26.342127</td>\n",
       "      <td>69.389389</td>\n",
       "      <td>103.866552</td>\n",
       "      <td>424.796503</td>\n",
       "      <td>car</td>\n",
       "    </tr>\n",
       "  </tbody>\n",
       "</table>\n",
       "</div>"
      ],
      "text/plain": [
       "   Case #          I0     PA500       HFS          DA          Area  \\\n",
       "0       1  524.794072  0.187448  0.032114  228.800228   6843.598481   \n",
       "1       2  330.000000  0.226893  0.265290  121.154201   3163.239472   \n",
       "2       3  551.879287  0.232478  0.063530  264.804935  11888.391830   \n",
       "3       4  380.000000  0.240855  0.286234  137.640111   5402.171180   \n",
       "4       5  362.831266  0.200713  0.244346  124.912559   3290.462446   \n",
       "\n",
       "        A/DA     Max IP          DR           P Class  \n",
       "0  29.910803  60.204880  220.737212  556.828334   car  \n",
       "1  26.109202  69.717361   99.084964  400.225776   car  \n",
       "2  44.894903  77.793297  253.785300  656.769449   car  \n",
       "3  39.248524  88.758446  105.198568  493.701814   car  \n",
       "4  26.342127  69.389389  103.866552  424.796503   car  "
      ]
     },
     "execution_count": 79,
     "metadata": {},
     "output_type": "execute_result"
    }
   ],
   "source": [
    "breast_cancer.head()"
   ]
  },
  {
   "cell_type": "code",
   "execution_count": 80,
   "metadata": {
    "id": "eh5DWthjjMEt"
   },
   "outputs": [],
   "source": [
    "# Setting 'id_number' as our index\n",
    "breast_cancer.set_index(['Case #'], inplace = True)  # inplace = True indicates that the changes made will be made direcly to the \n",
    "# given dataset instead of creating a copy\n",
    "\n",
    "# Converted to binary\n",
    "breast_cancer['Class'] = breast_cancer['Class'].map({'car':1,'fad':2,'mas':3,'gla':4,'con':5,'adi':6})"
   ]
  },
  {
   "cell_type": "markdown",
   "metadata": {
    "id": "4XlyLw2MjMEx"
   },
   "source": [
    "## Missing Value checks and Data Cleaning"
   ]
  },
  {
   "cell_type": "code",
   "execution_count": 81,
   "metadata": {
    "id": "-DcxKC1ljMEx",
    "outputId": "6da081d3-2319-4ac0-a4ce-458027c9099b"
   },
   "outputs": [
    {
     "data": {
      "text/plain": [
       "I0        0\n",
       "PA500     0\n",
       "HFS       0\n",
       "DA        0\n",
       "Area      0\n",
       "A/DA      0\n",
       "Max IP    0\n",
       "DR        0\n",
       "P         0\n",
       "Class     0\n",
       "dtype: int64"
      ]
     },
     "execution_count": 81,
     "metadata": {},
     "output_type": "execute_result"
    }
   ],
   "source": [
    "breast_cancer.apply(lambda x: x.isnull().sum())"
   ]
  },
  {
   "cell_type": "code",
   "execution_count": 82,
   "metadata": {},
   "outputs": [],
   "source": [
    "names = breast_cancer.columns"
   ]
  },
  {
   "cell_type": "code",
   "execution_count": 83,
   "metadata": {},
   "outputs": [
    {
     "name": "stdout",
     "output_type": "stream",
     "text": [
      "Index(['PA500', 'HFS', 'DA', 'Area', 'A/DA', 'Max IP', 'DR', 'P', 'Class'], dtype='object')\n"
     ]
    }
   ],
   "source": [
    "# For later use in CART models\n",
    "names_index = names[1:]\n",
    "#names_index = names_index[:-1]\n",
    "print(names_index)"
   ]
  },
  {
   "cell_type": "code",
   "execution_count": 84,
   "metadata": {
    "id": "JMtsz2VnjME8",
    "outputId": "e383e1f4-a11b-4bb1-e1b8-99ebe0e48345"
   },
   "outputs": [
    {
     "data": {
      "text/html": [
       "<div>\n",
       "<style scoped>\n",
       "    .dataframe tbody tr th:only-of-type {\n",
       "        vertical-align: middle;\n",
       "    }\n",
       "\n",
       "    .dataframe tbody tr th {\n",
       "        vertical-align: top;\n",
       "    }\n",
       "\n",
       "    .dataframe thead th {\n",
       "        text-align: right;\n",
       "    }\n",
       "</style>\n",
       "<table border=\"1\" class=\"dataframe\">\n",
       "  <thead>\n",
       "    <tr style=\"text-align: right;\">\n",
       "      <th></th>\n",
       "      <th>I0</th>\n",
       "      <th>PA500</th>\n",
       "      <th>HFS</th>\n",
       "      <th>DA</th>\n",
       "      <th>Area</th>\n",
       "      <th>A/DA</th>\n",
       "      <th>Max IP</th>\n",
       "      <th>DR</th>\n",
       "      <th>P</th>\n",
       "      <th>Class</th>\n",
       "    </tr>\n",
       "    <tr>\n",
       "      <th>Case #</th>\n",
       "      <th></th>\n",
       "      <th></th>\n",
       "      <th></th>\n",
       "      <th></th>\n",
       "      <th></th>\n",
       "      <th></th>\n",
       "      <th></th>\n",
       "      <th></th>\n",
       "      <th></th>\n",
       "      <th></th>\n",
       "    </tr>\n",
       "  </thead>\n",
       "  <tbody>\n",
       "    <tr>\n",
       "      <th>1</th>\n",
       "      <td>524.794072</td>\n",
       "      <td>0.187448</td>\n",
       "      <td>0.032114</td>\n",
       "      <td>228.800228</td>\n",
       "      <td>6843.598481</td>\n",
       "      <td>29.910803</td>\n",
       "      <td>60.204880</td>\n",
       "      <td>220.737212</td>\n",
       "      <td>556.828334</td>\n",
       "      <td>1</td>\n",
       "    </tr>\n",
       "    <tr>\n",
       "      <th>2</th>\n",
       "      <td>330.000000</td>\n",
       "      <td>0.226893</td>\n",
       "      <td>0.265290</td>\n",
       "      <td>121.154201</td>\n",
       "      <td>3163.239472</td>\n",
       "      <td>26.109202</td>\n",
       "      <td>69.717361</td>\n",
       "      <td>99.084964</td>\n",
       "      <td>400.225776</td>\n",
       "      <td>1</td>\n",
       "    </tr>\n",
       "    <tr>\n",
       "      <th>3</th>\n",
       "      <td>551.879287</td>\n",
       "      <td>0.232478</td>\n",
       "      <td>0.063530</td>\n",
       "      <td>264.804935</td>\n",
       "      <td>11888.391830</td>\n",
       "      <td>44.894903</td>\n",
       "      <td>77.793297</td>\n",
       "      <td>253.785300</td>\n",
       "      <td>656.769449</td>\n",
       "      <td>1</td>\n",
       "    </tr>\n",
       "    <tr>\n",
       "      <th>4</th>\n",
       "      <td>380.000000</td>\n",
       "      <td>0.240855</td>\n",
       "      <td>0.286234</td>\n",
       "      <td>137.640111</td>\n",
       "      <td>5402.171180</td>\n",
       "      <td>39.248524</td>\n",
       "      <td>88.758446</td>\n",
       "      <td>105.198568</td>\n",
       "      <td>493.701814</td>\n",
       "      <td>1</td>\n",
       "    </tr>\n",
       "    <tr>\n",
       "      <th>5</th>\n",
       "      <td>362.831266</td>\n",
       "      <td>0.200713</td>\n",
       "      <td>0.244346</td>\n",
       "      <td>124.912559</td>\n",
       "      <td>3290.462446</td>\n",
       "      <td>26.342127</td>\n",
       "      <td>69.389389</td>\n",
       "      <td>103.866552</td>\n",
       "      <td>424.796503</td>\n",
       "      <td>1</td>\n",
       "    </tr>\n",
       "  </tbody>\n",
       "</table>\n",
       "</div>"
      ],
      "text/plain": [
       "                I0     PA500       HFS          DA          Area       A/DA  \\\n",
       "Case #                                                                        \n",
       "1       524.794072  0.187448  0.032114  228.800228   6843.598481  29.910803   \n",
       "2       330.000000  0.226893  0.265290  121.154201   3163.239472  26.109202   \n",
       "3       551.879287  0.232478  0.063530  264.804935  11888.391830  44.894903   \n",
       "4       380.000000  0.240855  0.286234  137.640111   5402.171180  39.248524   \n",
       "5       362.831266  0.200713  0.244346  124.912559   3290.462446  26.342127   \n",
       "\n",
       "           Max IP          DR           P  Class  \n",
       "Case #                                            \n",
       "1       60.204880  220.737212  556.828334      1  \n",
       "2       69.717361   99.084964  400.225776      1  \n",
       "3       77.793297  253.785300  656.769449      1  \n",
       "4       88.758446  105.198568  493.701814      1  \n",
       "5       69.389389  103.866552  424.796503      1  "
      ]
     },
     "execution_count": 84,
     "metadata": {},
     "output_type": "execute_result"
    }
   ],
   "source": [
    "breast_cancer.head()"
   ]
  },
  {
   "cell_type": "code",
   "execution_count": 85,
   "metadata": {
    "id": "iBhheQA3jME_",
    "outputId": "f411fa0e-aa4a-42b4-d651-f7ec3572c2ac"
   },
   "outputs": [
    {
     "name": "stdout",
     "output_type": "stream",
     "text": [
      "Here's the dimensions of our data frame:\n",
      " (106, 10)\n",
      "Here's the data types of our columns:\n",
      " I0        float64\n",
      "PA500     float64\n",
      "HFS       float64\n",
      "DA        float64\n",
      "Area      float64\n",
      "A/DA      float64\n",
      "Max IP    float64\n",
      "DR        float64\n",
      "P         float64\n",
      "Class       int64\n",
      "dtype: object\n"
     ]
    }
   ],
   "source": [
    "print(\"Here's the dimensions of our data frame:\\n\", breast_cancer.shape)\n",
    "print(\"Here's the data types of our columns:\\n\",breast_cancer.dtypes)"
   ]
  },
  {
   "cell_type": "code",
   "execution_count": 86,
   "metadata": {
    "id": "xmbwQ49SjMFC",
    "outputId": "889de51a-33f6-4bd2-e68e-15547c9a9ada"
   },
   "outputs": [
    {
     "data": {
      "text/html": [
       "<div>\n",
       "<style scoped>\n",
       "    .dataframe tbody tr th:only-of-type {\n",
       "        vertical-align: middle;\n",
       "    }\n",
       "\n",
       "    .dataframe tbody tr th {\n",
       "        vertical-align: top;\n",
       "    }\n",
       "\n",
       "    .dataframe thead th {\n",
       "        text-align: right;\n",
       "    }\n",
       "</style>\n",
       "<table border=\"1\" class=\"dataframe\">\n",
       "  <thead>\n",
       "    <tr style=\"text-align: right;\">\n",
       "      <th></th>\n",
       "      <th>I0</th>\n",
       "      <th>PA500</th>\n",
       "      <th>HFS</th>\n",
       "      <th>DA</th>\n",
       "      <th>Area</th>\n",
       "      <th>A/DA</th>\n",
       "      <th>Max IP</th>\n",
       "      <th>DR</th>\n",
       "      <th>P</th>\n",
       "      <th>Class</th>\n",
       "    </tr>\n",
       "  </thead>\n",
       "  <tbody>\n",
       "    <tr>\n",
       "      <th>count</th>\n",
       "      <td>106.000000</td>\n",
       "      <td>106.000000</td>\n",
       "      <td>106.000000</td>\n",
       "      <td>106.000000</td>\n",
       "      <td>106.000000</td>\n",
       "      <td>106.000000</td>\n",
       "      <td>106.000000</td>\n",
       "      <td>106.000000</td>\n",
       "      <td>106.000000</td>\n",
       "      <td>106.000000</td>\n",
       "    </tr>\n",
       "    <tr>\n",
       "      <th>mean</th>\n",
       "      <td>784.251618</td>\n",
       "      <td>0.120133</td>\n",
       "      <td>0.114691</td>\n",
       "      <td>190.568642</td>\n",
       "      <td>7335.155161</td>\n",
       "      <td>23.473784</td>\n",
       "      <td>75.381258</td>\n",
       "      <td>166.710575</td>\n",
       "      <td>810.638127</td>\n",
       "      <td>3.500000</td>\n",
       "    </tr>\n",
       "    <tr>\n",
       "      <th>std</th>\n",
       "      <td>753.950075</td>\n",
       "      <td>0.068596</td>\n",
       "      <td>0.101347</td>\n",
       "      <td>190.801448</td>\n",
       "      <td>18580.314212</td>\n",
       "      <td>23.354672</td>\n",
       "      <td>81.345838</td>\n",
       "      <td>181.309580</td>\n",
       "      <td>763.019135</td>\n",
       "      <td>1.806074</td>\n",
       "    </tr>\n",
       "    <tr>\n",
       "      <th>min</th>\n",
       "      <td>103.000000</td>\n",
       "      <td>0.012392</td>\n",
       "      <td>-0.066323</td>\n",
       "      <td>19.647670</td>\n",
       "      <td>70.426239</td>\n",
       "      <td>1.595742</td>\n",
       "      <td>7.968783</td>\n",
       "      <td>-9.257696</td>\n",
       "      <td>124.978561</td>\n",
       "      <td>1.000000</td>\n",
       "    </tr>\n",
       "    <tr>\n",
       "      <th>25%</th>\n",
       "      <td>250.000000</td>\n",
       "      <td>0.067413</td>\n",
       "      <td>0.043982</td>\n",
       "      <td>53.845470</td>\n",
       "      <td>409.647141</td>\n",
       "      <td>8.180321</td>\n",
       "      <td>26.893773</td>\n",
       "      <td>41.781258</td>\n",
       "      <td>270.215238</td>\n",
       "      <td>2.000000</td>\n",
       "    </tr>\n",
       "    <tr>\n",
       "      <th>50%</th>\n",
       "      <td>384.936489</td>\n",
       "      <td>0.105418</td>\n",
       "      <td>0.086568</td>\n",
       "      <td>120.777303</td>\n",
       "      <td>2219.581163</td>\n",
       "      <td>16.133657</td>\n",
       "      <td>44.216040</td>\n",
       "      <td>97.832557</td>\n",
       "      <td>454.108153</td>\n",
       "      <td>3.000000</td>\n",
       "    </tr>\n",
       "    <tr>\n",
       "      <th>75%</th>\n",
       "      <td>1487.989626</td>\n",
       "      <td>0.169602</td>\n",
       "      <td>0.166504</td>\n",
       "      <td>255.334809</td>\n",
       "      <td>7615.204968</td>\n",
       "      <td>30.953294</td>\n",
       "      <td>83.671755</td>\n",
       "      <td>232.990070</td>\n",
       "      <td>1301.559438</td>\n",
       "      <td>5.000000</td>\n",
       "    </tr>\n",
       "    <tr>\n",
       "      <th>max</th>\n",
       "      <td>2800.000000</td>\n",
       "      <td>0.358316</td>\n",
       "      <td>0.467748</td>\n",
       "      <td>1063.441427</td>\n",
       "      <td>174480.476200</td>\n",
       "      <td>164.071543</td>\n",
       "      <td>436.099640</td>\n",
       "      <td>977.552367</td>\n",
       "      <td>2896.582483</td>\n",
       "      <td>6.000000</td>\n",
       "    </tr>\n",
       "  </tbody>\n",
       "</table>\n",
       "</div>"
      ],
      "text/plain": [
       "                I0       PA500         HFS           DA           Area  \\\n",
       "count   106.000000  106.000000  106.000000   106.000000     106.000000   \n",
       "mean    784.251618    0.120133    0.114691   190.568642    7335.155161   \n",
       "std     753.950075    0.068596    0.101347   190.801448   18580.314212   \n",
       "min     103.000000    0.012392   -0.066323    19.647670      70.426239   \n",
       "25%     250.000000    0.067413    0.043982    53.845470     409.647141   \n",
       "50%     384.936489    0.105418    0.086568   120.777303    2219.581163   \n",
       "75%    1487.989626    0.169602    0.166504   255.334809    7615.204968   \n",
       "max    2800.000000    0.358316    0.467748  1063.441427  174480.476200   \n",
       "\n",
       "             A/DA      Max IP          DR            P       Class  \n",
       "count  106.000000  106.000000  106.000000   106.000000  106.000000  \n",
       "mean    23.473784   75.381258  166.710575   810.638127    3.500000  \n",
       "std     23.354672   81.345838  181.309580   763.019135    1.806074  \n",
       "min      1.595742    7.968783   -9.257696   124.978561    1.000000  \n",
       "25%      8.180321   26.893773   41.781258   270.215238    2.000000  \n",
       "50%     16.133657   44.216040   97.832557   454.108153    3.000000  \n",
       "75%     30.953294   83.671755  232.990070  1301.559438    5.000000  \n",
       "max    164.071543  436.099640  977.552367  2896.582483    6.000000  "
      ]
     },
     "execution_count": 86,
     "metadata": {},
     "output_type": "execute_result"
    }
   ],
   "source": [
    "breast_cancer.describe()"
   ]
  },
  {
   "cell_type": "markdown",
   "metadata": {
    "id": "1bWmsJsajMFF"
   },
   "source": [
    "## Split the Dataset for Training & Testing"
   ]
  },
  {
   "cell_type": "code",
   "execution_count": 87,
   "metadata": {
    "id": "Sqa2Fgw1jMFF"
   },
   "outputs": [],
   "source": [
    "feature_space = breast_cancer.iloc[:, breast_cancer.columns != 'Class']\n",
    "feature_class = breast_cancer.iloc[:, breast_cancer.columns == 'Class']\n",
    "\n",
    "\n",
    "training_set, test_set, class_set, test_class_set = train_test_split(feature_space,\n",
    "                                                                    feature_class,\n",
    "                                                                    test_size = 0.20, \n",
    "                                                                    random_state = 42)"
   ]
  },
  {
   "cell_type": "code",
   "execution_count": 88,
   "metadata": {
    "id": "oEvvZ1AajMFJ"
   },
   "outputs": [],
   "source": [
    "# Cleaning test sets to avoid future warning messages\n",
    "class_set = class_set.values.ravel() \n",
    "test_class_set = test_class_set.values.ravel() "
   ]
  },
  {
   "cell_type": "markdown",
   "metadata": {
    "id": "9vOKZN3njMFM"
   },
   "source": [
    "## Random Forest Classifier"
   ]
  },
  {
   "cell_type": "code",
   "execution_count": 89,
   "metadata": {
    "id": "ggtx1XQNjMFN"
   },
   "outputs": [],
   "source": [
    "# Set the random state for reproducibility\n",
    "fit_rf = RandomForestClassifier(random_state=42)"
   ]
  },
  {
   "cell_type": "markdown",
   "metadata": {
    "id": "3SPaD5UgjMFR"
   },
   "source": [
    "## Hyper-Parameter Optimization using GridSearchCV"
   ]
  },
  {
   "cell_type": "code",
   "execution_count": 90,
   "metadata": {
    "id": "SX_WgQXEjMFS",
    "outputId": "dd235144-a1df-4584-a3ca-34bd005036c3"
   },
   "outputs": [
    {
     "name": "stdout",
     "output_type": "stream",
     "text": [
      "Best Parameters using grid search: \n",
      " {'bootstrap': True, 'criterion': 'gini', 'max_depth': 4, 'max_features': 'auto'}\n",
      "Time taken in grid search:  20.08\n"
     ]
    }
   ],
   "source": [
    "np.random.seed(42)\n",
    "start = time.time()\n",
    "\n",
    "param_dist = {'max_depth': [2, 3, 4],\n",
    "              'bootstrap': [True, False],\n",
    "              'max_features': ['auto', 'sqrt', 'log2', None],\n",
    "              'criterion': ['gini', 'entropy']}\n",
    "\n",
    "cv_rf = GridSearchCV(fit_rf, cv = 10,\n",
    "                     param_grid=param_dist, \n",
    "                     n_jobs = 3)\n",
    "\n",
    "cv_rf.fit(training_set, class_set)\n",
    "print('Best Parameters using grid search: \\n', cv_rf.best_params_)\n",
    "end = time.time()\n",
    "print('Time taken in grid search: {0: .2f}'.format(end - start))"
   ]
  },
  {
   "cell_type": "code",
   "execution_count": 91,
   "metadata": {
    "id": "-dJbGiJajMFW",
    "outputId": "7daa8095-7813-4f05-cca5-90bfab123bd1"
   },
   "outputs": [
    {
     "data": {
      "text/plain": [
       "RandomForestClassifier(max_depth=4, random_state=42)"
      ]
     },
     "execution_count": 91,
     "metadata": {},
     "output_type": "execute_result"
    }
   ],
   "source": [
    "# Set best parameters given by grid search \n",
    "fit_rf.set_params(criterion = 'gini',\n",
    "                  max_features = 'auto', \n",
    "                  max_depth = 4)"
   ]
  },
  {
   "cell_type": "markdown",
   "metadata": {
    "id": "6K3xeY8-jMFZ"
   },
   "source": [
    "## OOB Rate"
   ]
  },
  {
   "cell_type": "code",
   "execution_count": 92,
   "metadata": {
    "id": "Jxr-TcxsjMFZ"
   },
   "outputs": [],
   "source": [
    "# fit_rf.set_params(warm_start=True, \n",
    "#                   oob_score=True)\n",
    "\n",
    "# min_estimators = 15\n",
    "# max_estimators = 1000\n",
    "\n",
    "# error_rate = {}\n",
    "\n",
    "# for i in range(min_estimators, max_estimators + 1):\n",
    "#     fit_rf.set_params(n_estimators=i)\n",
    "#     fit_rf.fit(training_set, class_set)\n",
    "\n",
    "#     oob_error = 1 - fit_rf.oob_score_\n",
    "#     error_rate[i] = oob_error"
   ]
  },
  {
   "cell_type": "code",
   "execution_count": 93,
   "metadata": {
    "id": "F4LlR8lvjMFd"
   },
   "outputs": [],
   "source": [
    "# # Convert dictionary to a pandas series for easy plotting \n",
    "# oob_series = pd.Series(error_rate)"
   ]
  },
  {
   "cell_type": "code",
   "execution_count": 94,
   "metadata": {
    "id": "FcMY1AGGjMFg",
    "outputId": "5d44b320-530d-4a4a-d2d9-2dd717a07cbb"
   },
   "outputs": [],
   "source": [
    "# fig, ax = plt.subplots(figsize=(10, 10))\n",
    "\n",
    "# ax.set_facecolor('#fafafa')\n",
    "\n",
    "# oob_series.plot(kind='line',color = 'red')\n",
    "# plt.axhline(0.055, color='#875FDB',linestyle='--')\n",
    "# plt.axhline(0.05, color='#875FDB',linestyle='--')\n",
    "# plt.xlabel('n_estimators')\n",
    "# plt.ylabel('OOB Error Rate')\n",
    "# plt.title('OOB Error Rate Across various Forest sizes \\n(From 15 to 1000 trees)')"
   ]
  },
  {
   "cell_type": "code",
   "execution_count": 95,
   "metadata": {
    "id": "TSO7gxV6jMFi",
    "outputId": "44d19111-05c1-46ec-a547-2496b8770ce8"
   },
   "outputs": [],
   "source": [
    "#print('OOB Error rate for 400 trees is: {0:.5f}'.format(oob_series[400]))"
   ]
  },
  {
   "cell_type": "code",
   "execution_count": 96,
   "metadata": {
    "id": "RWfKXWk1jMFl",
    "outputId": "6917860e-5765-48f9-c287-10c559cb796c"
   },
   "outputs": [],
   "source": [
    "# Refine the tree via OOB Output \n",
    "# warm start - it gives your model the power to reuse the older fitted params\n",
    "#fit_rf.set_params(n_estimators=400,\n",
    "#                  bootstrap = True,\n",
    "#                  warm_start=False, \n",
    "#                  oob_score=False)"
   ]
  },
  {
   "cell_type": "markdown",
   "metadata": {
    "id": "8jUw_eW5jMFo"
   },
   "source": [
    "# Train the RandomForest"
   ]
  },
  {
   "cell_type": "code",
   "execution_count": 97,
   "metadata": {
    "id": "lq-xRDtQjMFo",
    "outputId": "12ed9afa-1482-45ed-c2cc-737444c8e570"
   },
   "outputs": [
    {
     "data": {
      "text/plain": [
       "RandomForestClassifier(max_depth=4, random_state=42)"
      ]
     },
     "execution_count": 97,
     "metadata": {},
     "output_type": "execute_result"
    }
   ],
   "source": [
    "fit_rf.fit(training_set, class_set)"
   ]
  },
  {
   "cell_type": "markdown",
   "metadata": {
    "id": "0MJIao7djMFr"
   },
   "source": [
    "## Variable Importance"
   ]
  },
  {
   "cell_type": "code",
   "execution_count": 98,
   "metadata": {
    "id": "tpF-D_x4jMFr"
   },
   "outputs": [],
   "source": [
    "def variable_importance(fit):\n",
    "    \"\"\"\n",
    "    Purpose\n",
    "    ----------\n",
    "    Checks if model is fitted CART model then produces variable importance\n",
    "    and respective indices in dictionary.\n",
    "\n",
    "    Parameters\n",
    "    ----------\n",
    "    * fit:  Fitted model containing the attribute feature_importances_\n",
    "\n",
    "    Returns\n",
    "    ----------\n",
    "    Dictionary containing arrays with importance score and index of columns\n",
    "    ordered in descending order of importance.\n",
    "    \"\"\"\n",
    "    try:\n",
    "        if not hasattr(fit, 'fit'):\n",
    "            return print(\"'{0}' is not an instantiated model from scikit-learn\".format(fit)) \n",
    "\n",
    "        # Captures whether the model has been trained\n",
    "        if not vars(fit)[\"estimators_\"]:\n",
    "            return print(\"Model does not appear to be trained.\")\n",
    "    except KeyError:\n",
    "        print(\"Model entered does not contain 'estimators_' attribute.\")\n",
    "\n",
    "    importances = fit.feature_importances_\n",
    "    indices = np.argsort(importances)[::-1]\n",
    "    return {'importance': importances,\n",
    "            'index': indices}"
   ]
  },
  {
   "cell_type": "code",
   "execution_count": 99,
   "metadata": {
    "id": "RDFXCJzLjMFu"
   },
   "outputs": [],
   "source": [
    "var_imp_rf = variable_importance(fit_rf)\n",
    "\n",
    "importances_rf = var_imp_rf['importance']\n",
    "\n",
    "indices_rf = var_imp_rf['index']"
   ]
  },
  {
   "cell_type": "code",
   "execution_count": 100,
   "metadata": {
    "id": "SHwTiiQCjMFx"
   },
   "outputs": [],
   "source": [
    "def print_var_importance(importance, indices, name_index):\n",
    "    \"\"\"\n",
    "    Purpose\n",
    "    ----------\n",
    "    Prints dependent variable names ordered from largest to smallest\n",
    "    based on information gain for CART model.\n",
    "    Parameters\n",
    "    ----------\n",
    "    * importance: Array returned from feature_importances_ for CART\n",
    "                models organized by dataframe index\n",
    "    * indices: Organized index of dataframe from largest to smallest\n",
    "                based on feature_importances_\n",
    "    * name_index: Name of columns included in model\n",
    "\n",
    "    Returns\n",
    "    ----------\n",
    "    Prints feature importance in descending order\n",
    "    \"\"\"\n",
    "    print(\"Feature ranking:\")\n",
    "\n",
    "    for f in range(0, indices.shape[0]):\n",
    "        i = f\n",
    "        print(\"{0}. The feature '{1}' has a Mean Decrease in Impurity of {2:.5f}\"\n",
    "              .format(f + 1,\n",
    "                      names_index[indices[i]],\n",
    "                      importance[indices[f]]))"
   ]
  },
  {
   "cell_type": "code",
   "execution_count": 101,
   "metadata": {
    "id": "27JmoisXjMF0",
    "outputId": "480761bc-ac77-4114-e474-a1d998aed591"
   },
   "outputs": [
    {
     "name": "stdout",
     "output_type": "stream",
     "text": [
      "Feature ranking:\n",
      "1. The feature 'PA500' has a Mean Decrease in Impurity of 0.21960\n",
      "2. The feature 'Class' has a Mean Decrease in Impurity of 0.19843\n",
      "3. The feature 'HFS' has a Mean Decrease in Impurity of 0.11338\n",
      "4. The feature 'DR' has a Mean Decrease in Impurity of 0.11318\n",
      "5. The feature 'Area' has a Mean Decrease in Impurity of 0.10963\n",
      "6. The feature 'A/DA' has a Mean Decrease in Impurity of 0.07643\n",
      "7. The feature 'Max IP' has a Mean Decrease in Impurity of 0.06696\n",
      "8. The feature 'P' has a Mean Decrease in Impurity of 0.06438\n",
      "9. The feature 'DA' has a Mean Decrease in Impurity of 0.03801\n"
     ]
    }
   ],
   "source": [
    "print_var_importance(importances_rf, indices_rf, names_index)"
   ]
  },
  {
   "cell_type": "markdown",
   "metadata": {
    "id": "2EhGv_uTjMF9"
   },
   "source": [
    "## Predictions"
   ]
  },
  {
   "cell_type": "code",
   "execution_count": 102,
   "metadata": {
    "id": "P-pNtHU4jMF-"
   },
   "outputs": [],
   "source": [
    "predictions_rf = fit_rf.predict(test_set)"
   ]
  },
  {
   "cell_type": "markdown",
   "metadata": {
    "id": "StX80kezjMGH"
   },
   "source": [
    "## Confusion Matrix"
   ]
  },
  {
   "cell_type": "code",
   "execution_count": 103,
   "metadata": {
    "id": "g1o6ui0tjMGI"
   },
   "outputs": [],
   "source": [
    "def create_conf_mat(test_class_set, predictions):\n",
    "    \"\"\"Function returns confusion matrix comparing two arrays\"\"\"\n",
    "    if (len(test_class_set.shape) != len(predictions.shape) == 1):\n",
    "        return print('Arrays entered are not 1-D.\\nPlease enter the correctly sized sets.')\n",
    "    elif (test_class_set.shape != predictions.shape):\n",
    "        return print('Number of values inside the Arrays are not equal to each other.\\nPlease make sure the array has the same number of instances.')\n",
    "    else:\n",
    "        # Set Metrics\n",
    "        test_crosstb_comp = pd.crosstab(index = test_class_set,\n",
    "                                        columns = predictions)\n",
    "        # Changed for Future deprecation of as_matrix\n",
    "        test_crosstb = test_crosstb_comp.values\n",
    "        return test_crosstb"
   ]
  },
  {
   "cell_type": "code",
   "execution_count": 104,
   "metadata": {
    "id": "RACysIqVjMGK",
    "outputId": "3832bbe3-e7b4-4a0d-bf90-74ad66f29fd1"
   },
   "outputs": [
    {
     "data": {
      "image/png": "[encoded data removed]",
      "text/plain": [
       "<Figure size 432x288 with 1 Axes>"
      ]
     },
     "metadata": {},
     "output_type": "display_data"
    }
   ],
   "source": [
    "conf_mat = create_conf_mat(test_class_set, predictions_rf)\n",
    "sns.heatmap(conf_mat, annot=True, fmt='d', cbar=False)\n",
    "plt.xlabel('Predicted Values')\n",
    "plt.ylabel('Actual Values')\n",
    "plt.title('Actual vs. Predicted Confusion Matrix')\n",
    "plt.show()"
   ]
  },
  {
   "cell_type": "markdown",
   "metadata": {
    "id": "0xq9csNbjMGM"
   },
   "source": [
    "## Accuracy"
   ]
  },
  {
   "cell_type": "code",
   "execution_count": 105,
   "metadata": {
    "id": "Bu255Hb6jMGN",
    "outputId": "9b5f8c43-ae5b-4cb6-cda4-c155a535fbe0"
   },
   "outputs": [
    {
     "name": "stdout",
     "output_type": "stream",
     "text": [
      "Here is our accuracy on the test set:\n",
      " 0.773\n"
     ]
    }
   ],
   "source": [
    "accuracy_rf = fit_rf.score(test_set, test_class_set)\n",
    "\n",
    "print(\"Here is our accuracy on the test set:\\n {0:.3f}\"\\\n",
    "      .format(accuracy_rf))"
   ]
  },
  {
   "cell_type": "markdown",
   "metadata": {
    "id": "6eWJHytGjMGP"
   },
   "source": [
    "## Error Rate"
   ]
  },
  {
   "cell_type": "code",
   "execution_count": 106,
   "metadata": {
    "id": "GICZUOwYjMGQ",
    "outputId": "11d6037d-3b2b-4bb6-9110-9a5c12795711"
   },
   "outputs": [
    {
     "name": "stdout",
     "output_type": "stream",
     "text": [
      "The test error rate for our model is:\n",
      "  0.2273\n"
     ]
    }
   ],
   "source": [
    "# Here we calculate the test error rate!\n",
    "test_error_rate_rf = 1 - accuracy_rf\n",
    "print(\"The test error rate for our model is:\\n {0: .4f}\"\\\n",
    "      .format(test_error_rate_rf))"
   ]
  },
  {
   "cell_type": "markdown",
   "metadata": {
    "id": "V8WDZlvgjMGS"
   },
   "source": [
    "## Area Under Curve (AUC)"
   ]
  },
  {
   "cell_type": "code",
   "execution_count": 107,
   "metadata": {
    "id": "Q-zd__UrjMGS"
   },
   "outputs": [],
   "source": [
    "# We grab the second array from the output which corresponds to\n",
    "# to the predicted probabilites of positive classes \n",
    "# Ordered wrt fit.classes_ in our case [0, 1] where 1 is our positive class\n",
    "predictions_prob = fit_rf.predict_proba(test_set)[:, 1]\n",
    "\n",
    "fpr2, tpr2, _ = roc_curve(test_class_set,\n",
    "                          predictions_prob,\n",
    "                          pos_label = 1)"
   ]
  },
  {
   "cell_type": "code",
   "execution_count": 108,
   "metadata": {
    "id": "9gkasOIjjMGV"
   },
   "outputs": [],
   "source": [
    "auc_rf = auc(fpr2, tpr2)"
   ]
  },
  {
   "cell_type": "code",
   "execution_count": 109,
   "metadata": {
    "id": "py53_UedjMGY"
   },
   "outputs": [],
   "source": [
    "def plot_roc_curve(fpr, tpr, auc, estimator, xlim=None, ylim=None):\n",
    "    \"\"\"\n",
    "    Purpose\n",
    "    ----------\n",
    "    Function creates ROC Curve for respective model given selected parameters.\n",
    "    Optional x and y limits to zoom into graph\n",
    "\n",
    "    Parameters\n",
    "    ----------\n",
    "    * fpr: Array returned from sklearn.metrics.roc_curve for increasing\n",
    "            false positive rates\n",
    "    * tpr: Array returned from sklearn.metrics.roc_curve for increasing\n",
    "            true positive rates\n",
    "    * auc: Float returned from sklearn.metrics.auc (Area under Curve)\n",
    "    * estimator: String represenation of appropriate model, can only contain the\n",
    "    following: ['knn', 'rf', 'nn']\n",
    "    * xlim: Set upper and lower x-limits\n",
    "    * ylim: Set upper and lower y-limits\n",
    "    \"\"\"\n",
    "    my_estimators = {'knn': ['Kth Nearest Neighbor', 'deeppink'],\n",
    "              'rf': ['Random Forest', 'red'],\n",
    "              'nn': ['Neural Network', 'purple']}\n",
    "\n",
    "    try:\n",
    "        plot_title = my_estimators[estimator][0]\n",
    "        color_value = my_estimators[estimator][1]\n",
    "    except KeyError as e:\n",
    "        print(\"'{0}' does not correspond with the appropriate key inside the estimators dictionary. \\\n",
    "\\nPlease refer to function to check `my_estimators` dictionary.\".format(estimator))\n",
    "        raise\n",
    "\n",
    "    fig, ax = plt.subplots(figsize=(10, 10))\n",
    "    ax.set_facecolor('#fafafa')\n",
    "\n",
    "    plt.plot(fpr, tpr,\n",
    "             color=color_value,\n",
    "             linewidth=1)\n",
    "    plt.title('ROC Curve For {0} (AUC = {1: 0.3f})'\\\n",
    "              .format(plot_title, auc))\n",
    "\n",
    "    plt.plot([0, 1], [0, 1], 'k--', lw=2) # Add Diagonal line\n",
    "    plt.plot([0, 0], [1, 0], 'k--', lw=2, color = 'black')\n",
    "    plt.plot([1, 0], [1, 1], 'k--', lw=2, color = 'black')\n",
    "    if xlim is not None:\n",
    "        plt.xlim(*xlim)\n",
    "    if ylim is not None:\n",
    "        plt.ylim(*ylim)\n",
    "    plt.xlabel('False Positive Rate')\n",
    "    plt.ylabel('True Positive Rate')\n",
    "    plt.show()\n",
    "    plt.close()"
   ]
  },
  {
   "cell_type": "code",
   "execution_count": 110,
   "metadata": {
    "id": "GKQFDa35jMGb",
    "outputId": "bf6b68fb-c4c4-458c-e7c1-be0d0748b592"
   },
   "outputs": [
    {
     "name": "stderr",
     "output_type": "stream",
     "text": [
      "C:\\Users\\nisarg negi\\AppData\\Local\\Temp\\ipykernel_17844\\2153116955.py:42: UserWarning: color is redundantly defined by the 'color' keyword argument and the fmt string \"k--\" (-> color='k'). The keyword argument will take precedence.\n",
      "  plt.plot([0, 0], [1, 0], 'k--', lw=2, color = 'black')\n",
      "C:\\Users\\nisarg negi\\AppData\\Local\\Temp\\ipykernel_17844\\2153116955.py:43: UserWarning: color is redundantly defined by the 'color' keyword argument and the fmt string \"k--\" (-> color='k'). The keyword argument will take precedence.\n",
      "  plt.plot([1, 0], [1, 1], 'k--', lw=2, color = 'black')\n"
     ]
    },
    {
     "data": {
      "image/png": "[encoded data removed]",
      "text/plain": [
       "<Figure size 720x720 with 1 Axes>"
      ]
     },
     "metadata": {},
     "output_type": "display_data"
    }
   ],
   "source": [
    "plot_roc_curve(fpr2, tpr2, auc_rf, 'rf',\n",
    "               xlim=(-0.01, 1.05), \n",
    "               ylim=(0.001, 1.05))"
   ]
  },
  {
   "cell_type": "markdown",
   "metadata": {
    "id": "WYESGnSYjMGe"
   },
   "source": [
    "## Classification Report"
   ]
  },
  {
   "cell_type": "code",
   "execution_count": 111,
   "metadata": {
    "id": "rGSsvgb0jMGe"
   },
   "outputs": [],
   "source": [
    "def print_class_report(predictions, alg_name):\n",
    "    \"\"\"\n",
    "    Purpose\n",
    "    ----------\n",
    "    Function helps automate the report generated by the\n",
    "    sklearn package. Useful for multiple model comparison\n",
    "\n",
    "    Parameters:\n",
    "    ----------\n",
    "    predictions: The predictions made by the algorithm used\n",
    "    alg_name: String containing the name of the algorithm used\n",
    "    \n",
    "    Returns:\n",
    "    ----------\n",
    "    Returns classification report generated from sklearn. \n",
    "    \"\"\"\n",
    "    print('Classification Report for {0}:'.format(alg_name))\n",
    "    print(classification_report(predictions, \n",
    "            test_class_set, \n",
    "            target_names = dx))"
   ]
  },
  {
   "cell_type": "code",
   "execution_count": 112,
   "metadata": {
    "id": "TsqqJIwnjMGi",
    "outputId": "ca98a967-2937-4bf2-a471-0b41e4f48585"
   },
   "outputs": [
    {
     "name": "stdout",
     "output_type": "stream",
     "text": [
      "Classification Report for Random Forest:\n",
      "              precision    recall  f1-score   support\n",
      "\n",
      "         car       1.00      1.00      1.00         6\n",
      "         fad       0.00      0.00      0.00         0\n",
      "         mas       0.67      0.33      0.44         6\n",
      "         gla       0.50      0.67      0.57         3\n",
      "         con       1.00      1.00      1.00         4\n",
      "         adi       1.00      1.00      1.00         3\n",
      "\n",
      "    accuracy                           0.77        22\n",
      "   macro avg       0.69      0.67      0.67        22\n",
      "weighted avg       0.84      0.77      0.79        22\n",
      "\n"
     ]
    },
    {
     "name": "stderr",
     "output_type": "stream",
     "text": [
      "C:\\Software\\lib\\site-packages\\sklearn\\metrics\\_classification.py:1318: UndefinedMetricWarning: Recall and F-score are ill-defined and being set to 0.0 in labels with no true samples. Use `zero_division` parameter to control this behavior.\n",
      "  _warn_prf(average, modifier, msg_start, len(result))\n",
      "C:\\Software\\lib\\site-packages\\sklearn\\metrics\\_classification.py:1318: UndefinedMetricWarning: Recall and F-score are ill-defined and being set to 0.0 in labels with no true samples. Use `zero_division` parameter to control this behavior.\n",
      "  _warn_prf(average, modifier, msg_start, len(result))\n",
      "C:\\Software\\lib\\site-packages\\sklearn\\metrics\\_classification.py:1318: UndefinedMetricWarning: Recall and F-score are ill-defined and being set to 0.0 in labels with no true samples. Use `zero_division` parameter to control this behavior.\n",
      "  _warn_prf(average, modifier, msg_start, len(result))\n"
     ]
    }
   ],
   "source": [
    "class_report = print_class_report(predictions_rf, 'Random Forest')"
   ]
  },
  {
   "cell_type": "code",
   "execution_count": null,
   "metadata": {},
   "outputs": [],
   "source": []
  }
 ],
 "metadata": {
  "colab": {
   "name": "RandomForest_Classifier.ipynb",
   "provenance": []
  },
  "kernelspec": {
   "display_name": "Python 3 (ipykernel)",
   "language": "python",
   "name": "python3"
  },
  "language_info": {
   "codemirror_mode": {
    "name": "ipython",
    "version": 3
   },
   "file_extension": ".py",
   "mimetype": "text/x-python",
   "name": "python",
   "nbconvert_exporter": "python",
   "pygments_lexer": "ipython3",
   "version": "3.9.12"
  }
 },
 "nbformat": 4,
 "nbformat_minor": 1
}
